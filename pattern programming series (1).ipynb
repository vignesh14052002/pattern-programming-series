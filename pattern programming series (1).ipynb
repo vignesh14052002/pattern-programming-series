{
 "cells": [
  {
   "cell_type": "markdown",
   "metadata": {},
   "source": [
    "<h3>parameters in this series<h3> \n",
    "<ul><li> n - number of rows</li>\n",
    "    <li> s - tail width adjustment</li>\n",
    "    <li> l - tail length</li>\n",
    "    <li> mld - move entire shape (left or right)</li>\n",
    "    <li> mud - move entire shape (up or down)</li></ul>"
   ]
  },
  {
   "cell_type": "code",
   "execution_count": 32,
   "metadata": {},
   "outputs": [
    {
     "name": "stdout",
     "output_type": "stream",
     "text": [
      "        * \n",
      "      * * * * * \n",
      "    * * * * * * \n",
      "      * * * * * \n",
      "        * \n"
     ]
    }
   ],
   "source": [
    "n,s,l,mlr,mud=5,2,3,'  '*0,0 #arrow pointing left\n",
    "for j in range(mud):\n",
    "    print('')\n",
    "for i in range(1,n+1):\n",
    "    if i<((n+1)//2) and i<s:\n",
    "        print(mlr+'  '*(n-i)+'* '*i)\n",
    "    elif i<=((n+1)//2) and i>=s:\n",
    "        print(mlr+'  '*(n-i)+'* '*i+'* '*l)\n",
    "    elif i>((n+1)//2) and i<=(n+1-s):\n",
    "        print(mlr+'  '*(i-1)+'* '*(n+1-i)+'* '*l)\n",
    "    else:\n",
    "        print(mlr+'  '*(i-1)+'* '*(n+1-i))\n",
    "#author-@_._hello_world._._\n",
    "\n",
    "    "
   ]
  },
  {
   "cell_type": "code",
   "execution_count": 31,
   "metadata": {},
   "outputs": [
    {
     "name": "stdout",
     "output_type": "stream",
     "text": [
      "      * \n",
      "* * * * * \n",
      "* * * * * * \n",
      "* * * * * \n",
      "      * \n"
     ]
    }
   ],
   "source": [
    "n,s,l,mlr,mud=5,2,3,'  '*0,0 #arrow pointing right\n",
    "for j in range(mud):\n",
    "    print('')\n",
    "for i in range(1,n+1):\n",
    "    if i<((n+1)//2) and i<s:\n",
    "        print(mlr+'  '*l+'* '*i)\n",
    "    elif i<=((n+1)//2) and i>=s:\n",
    "        print(mlr+'* '*l+'* '*i)\n",
    "    elif i>((n+1)//2) and i<=(n+1-s):\n",
    "        print(mlr+'* '*l+'* '*(n+1-i))\n",
    "    else:\n",
    "        print(mlr+'  '*l+'* '*(n+1-i))\n",
    "#author-@_._hello_world._._\n"
   ]
  },
  {
   "cell_type": "code",
   "execution_count": 38,
   "metadata": {},
   "outputs": [
    {
     "name": "stdout",
     "output_type": "stream",
     "text": [
      "    * \n",
      "   * * \n",
      "  * * * \n",
      " * * * * \n",
      "* * * * * \n",
      "  * * * \n",
      "  * * * \n",
      "  * * * \n"
     ]
    }
   ],
   "source": [
    "n,s,l,mlr,mud=5,2,3,'  '*0,0 #arrow pointing up\n",
    "for j in range(mud):\n",
    "    print('')\n",
    "for i in range(1,n+1):\n",
    "    print(mlr+' '*(n-i)+'* '*i)\n",
    "for k in range(1,l+1):\n",
    "    print(mlr+' '*s +'* '*(n-s))\n",
    "#author-@_._hello_world._._\n",
    "#source code link in bio"
   ]
  },
  {
   "cell_type": "code",
   "execution_count": 39,
   "metadata": {},
   "outputs": [
    {
     "name": "stdout",
     "output_type": "stream",
     "text": [
      "  * * * \n",
      "  * * * \n",
      "  * * * \n",
      "* * * * * \n",
      " * * * * \n",
      "  * * * \n",
      "   * * \n",
      "    * \n"
     ]
    }
   ],
   "source": [
    "n,s,l,mlr,mud=5,2,3,'  '*0,0 #arrow pointing down\n",
    "for j in range(mud):\n",
    "    print('')\n",
    "for k in range(1,l+1):\n",
    "    print(mlr+' '*s +'* '*(n-s))\n",
    "for i in range(n,0,-1):\n",
    "    print(mlr+' '*(n-i)+'* '*i)\n",
    "\n",
    "#author-@_._hello_world._._\n",
    "#source code link in bio"
   ]
  },
  {
   "cell_type": "code",
   "execution_count": 45,
   "metadata": {},
   "outputs": [
    {
     "name": "stdout",
     "output_type": "stream",
     "text": [
      "    * \n",
      "   * * \n",
      "  * * * \n",
      " * * * * \n",
      "* * * * * \n",
      "  * * * \n",
      "  * * * \n",
      "  * * * \n",
      "* * * * * \n",
      " * * * * \n",
      "  * * * \n",
      "   * * \n",
      "    * \n"
     ]
    }
   ],
   "source": [
    "n,s,l,mlr,mud=5,2,3,'  '*0,0 #vertical double side arrow\n",
    "for i in range(mud):\n",
    "    print('')\n",
    "for i in range(1,n+1):\n",
    "    print(mlr+' '*(n-i)+'* '*i)\n",
    "for i in range(1,l+1):\n",
    "    print(mlr+' '*s +'* '*(n-s))\n",
    "for i in range(n,0,-1):\n",
    "    print(mlr+' '*(n-i)+'* '*i)\n",
    "#author-@_._hello_world._._\n"
   ]
  },
  {
   "cell_type": "code",
   "execution_count": 49,
   "metadata": {},
   "outputs": [
    {
     "name": "stdout",
     "output_type": "stream",
     "text": [
      "        *       * \n",
      "      * * * * * * * \n",
      "    * * * * * * * * * \n",
      "      * * * * * * * \n",
      "        *       * \n"
     ]
    }
   ],
   "source": [
    "n,s,l,mlr,mud=5,2,3,'  '*0,0 #horizontal double side arrow\n",
    "for j in range(mud):\n",
    "    print('')\n",
    "for i in range(1,n+1):\n",
    "    if i<((n+1)//2) and i<s:\n",
    "        print(mlr+'  '*(n-i)+'* '*i+'  '*l+'* '*i)\n",
    "    elif i<=((n+1)//2) and i>=s:\n",
    "        print(mlr+'  '*(n-i)+'* '*i+'* '*l+'* '*i)\n",
    "    elif i>((n+1)//2) and i<=(n+1-s):\n",
    "        print(mlr+'  '*(i-1)+'* '*(n+1-i)+'* '*l+'* '*(n+1-i))\n",
    "    else:\n",
    "        print(mlr+'  '*(i-1)+'* '*(n+1-i)+'  '*l+'* '*(n+1-i))\n",
    "#author-@_._hello_world._._\n",
    "#source code link in bio\n",
    "    "
   ]
  },
  {
   "cell_type": "code",
   "execution_count": 129,
   "metadata": {},
   "outputs": [
    {
     "name": "stdout",
     "output_type": "stream",
     "text": [
      "                            * \n",
      "                          * * * \n",
      "                        * * * * * \n",
      "                      * * * * * * * \n",
      "                    * * * * * * * * * \n",
      "                        * * * * * \n",
      "                        * * * * * \n",
      "                *       * * * * *       * \n",
      "              * *       * * * * *       * * \n",
      "            * * * * * * * * * * * * * * * * * \n",
      "          * * * * * * * * * * * * * * * * * * * \n",
      "        * * * * * * * * * * * * * * * * * * * * * \n",
      "          * * * * * * * * * * * * * * * * * * * \n",
      "            * * * * * * * * * * * * * * * * * \n",
      "              * *       * * * * *       * * \n",
      "                *       * * * * *       * \n",
      "                        * * * * * \n",
      "                        * * * * * \n",
      "                    * * * * * * * * * \n",
      "                      * * * * * * * \n",
      "                        * * * * * \n",
      "                          * * * \n",
      "                            * \n"
     ]
    }
   ],
   "source": [
    "n,s,l,mlr,mud=9,3,5,'  '*0,0#four sided arrow\n",
    "#n,l must be odd number\n",
    "w=(n-(s-1)*2)#tail width\n",
    "for j in range(mud):\n",
    "    print('')\n",
    "for i in range(1,n//2+2):\n",
    "    print(mlr+'  '*(n-i+l +1)+'* '*(2*i-1))\n",
    "for i in range(l-w//2-1):\n",
    "    print(mlr+'  '*(n+l-w//2) +'* '*(w))\n",
    "for i in range(1,n+1):\n",
    "    if i<((n+1)//2) and i<s:\n",
    "        print(mlr+'  '*(n-i)+'* '*i+'  '*(l-w//2)+'* '*(w)+'  '*(l-w//2)+'* '*i)\n",
    "    elif i<=((n+1)//2) and i>=s:\n",
    "        print(mlr+'  '*(n-i)+'* '*i+'* '*(2*l+1)+'* '*i)\n",
    "    elif i>((n+1)//2) and i<=(n+1-s):\n",
    "        print(mlr+'  '*(i-1)+'* '*(n+1-i)+'* '*(2*l+1)+'* '*(n+1-i))\n",
    "    else:\n",
    "        print(mlr+'  '*(i-1)+'* '*(n+1-i)+'  '*(l-w//2)+'* '*(w)+'  '*(l-w//2)+'* '*(n+1-i))\n",
    "for i in range(l-w//2-1,0,-1):\n",
    "    print(mlr+'  '*(n+l-w//2) +'* '*(w))\n",
    "for i in range(n//2+1,0,-1):\n",
    "    print(mlr+'  '*(n-i+l +1)+'* '*(2*i-1))\n",
    "#author-@_._hello_world._._\n",
    "#source code link in bio\n",
    "    "
   ]
  },
  {
   "cell_type": "markdown",
   "metadata": {},
   "source": [
    "<h1>outlines</h1>\n",
    "<h3></h3>\n",
    "<h3>if you know how to print a shape </h3><h3> then it is easy to learn how to print outlines</h3>\n",
    "<h3></h3>\n",
    "<h4>print the top and bottom line with no change</h4>\n",
    "<h4>then print starting and ending point of each line</h4>\n",
    "<h4>fill the middle space with empty strings</h4>"
   ]
  },
  {
   "cell_type": "code",
   "execution_count": 2,
   "metadata": {},
   "outputs": [
    {
     "name": "stdout",
     "output_type": "stream",
     "text": [
      "* * * * * \n",
      "*       * \n",
      "*       * \n",
      "*       * \n",
      "* * * * * \n"
     ]
    }
   ],
   "source": [
    "n=5 #square\n",
    "for i in range(1,n+1):\n",
    "    if i==1 or i==n:\n",
    "        print('* '*n)\n",
    "    else:\n",
    "        print('* '*1 +'  '*(n-2)+'* '*1)\n",
    "#author-@_._hello_world._._\n",
    "#source code link in bio     "
   ]
  },
  {
   "cell_type": "code",
   "execution_count": 6,
   "metadata": {},
   "outputs": [
    {
     "name": "stdout",
     "output_type": "stream",
     "text": [
      "    * \n",
      "   * * \n",
      "  *   * \n",
      " *     * \n",
      "* * * * * \n"
     ]
    }
   ],
   "source": [
    "n=5 #triangle\n",
    "for i in range(1,n+1):\n",
    "    if i==1 or i==n:\n",
    "        print(' '*(n-i)+'* '*i)\n",
    "    else:\n",
    "        print(' '*(n-i)+'* '*1 +'  '*(i-2)+'* '*1)\n",
    "#author-@_._hello_world._._\n",
    "#source code link in bio     "
   ]
  },
  {
   "cell_type": "code",
   "execution_count": 13,
   "metadata": {},
   "outputs": [
    {
     "name": "stdout",
     "output_type": "stream",
     "text": [
      "    * \n",
      "   * * \n",
      "  *   * \n",
      " *     * \n",
      "* *   * * \n",
      "  *   * \n",
      "  *   * \n",
      "  * * * \n"
     ]
    }
   ],
   "source": [
    "n,s,l=5,2,3 #arrow\n",
    "for i in range(1,n+1):\n",
    "    if i==1:\n",
    "        print(' '*(n-i)+'* '*i)\n",
    "    elif i==n:\n",
    "        print('* '*s +'  '*(i-2-s)+'* '*s)\n",
    "    else:\n",
    "        print(' '*(n-i)+'* '*1 +'  '*(i-2)+'* '*1)\n",
    "for k in range(1,l+1):\n",
    "    if k==l:\n",
    "        print(' '*s +'* '*(n-s))\n",
    "    else:\n",
    "        print(' '*s +'* '*1+'  '*(n-s-2)+'* '*1)\n",
    "#author-@_._hello_world._._\n",
    "#source code link in bio     "
   ]
  },
  {
   "cell_type": "code",
   "execution_count": null,
   "metadata": {},
   "outputs": [],
   "source": []
  },
  {
   "cell_type": "code",
   "execution_count": null,
   "metadata": {},
   "outputs": [],
   "source": []
  },
  {
   "cell_type": "code",
   "execution_count": null,
   "metadata": {},
   "outputs": [],
   "source": []
  }
 ],
 "metadata": {
  "kernelspec": {
   "display_name": "Python 3",
   "language": "python",
   "name": "python3"
  },
  "language_info": {
   "codemirror_mode": {
    "name": "ipython",
    "version": 3
   },
   "file_extension": ".py",
   "mimetype": "text/x-python",
   "name": "python",
   "nbconvert_exporter": "python",
   "pygments_lexer": "ipython3",
   "version": "3.7.6"
  }
 },
 "nbformat": 4,
 "nbformat_minor": 4
}
